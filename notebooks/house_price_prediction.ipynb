{
 "cells": [
  {
   "cell_type": "code",
   "execution_count": null,
   "id": "4a429879-52e2-47bb-a449-4c7e4dfdc7ce",
   "metadata": {},
   "outputs": [],
   "source": [
    "import pandas as pd\n",
    "import numpy as np\n",
    "from sklearn.model_selection import train_test_split\n",
    "from sklearn.linear_model import LinearRegression\n",
    "from sklearn.metrics import mean_squared_error, r2_score\n",
    "import matplotlib.pyplot as plt\n",
    "import seaborn as sns\n",
    "\n",
    "# better visualizations\n",
    "sns.set(style=\"whitegrid\")"
   ]
  },
  {
   "cell_type": "code",
   "execution_count": null,
   "id": "4fddc473-deb4-4189-88b8-638da1ab98ac",
   "metadata": {},
   "outputs": [],
   "source": [
    "# Loading the dataset\n",
    "data = pd.read_csv('../data/house_prices.csv')\n",
    "\n",
    "# Exploring this dataset\n",
    "print(data.head())\n",
    "print(data.info())\n",
    "print(data.describe())"
   ]
  },
  {
   "cell_type": "code",
   "execution_count": null,
   "id": "7a72b8a6-11b4-46f6-8713-7af4d285bb68",
   "metadata": {},
   "outputs": [],
   "source": [
    "# Checking missing values\n",
    "missing_data = data.isnull().sum()\n",
    "print(missing_data[missing_data > 0])\n",
    "\n",
    "# in this i have alredy removed all the missing values so that heres a output is cleard.\n",
    "# this is real word data so it have a lots of missing coloumn values."
   ]
  },
  {
   "cell_type": "code",
   "execution_count": null,
   "id": "c31982b6-7133-4798-9a46-66052989b295",
   "metadata": {},
   "outputs": [],
   "source": [
    "# Check for categorical columns\n",
    "categorical_cols = data.select_dtypes(include=['object']).columns\n",
    "print(\"Categorical Columns:\", categorical_cols)\n",
    "\n",
    "# If there are categorical columns then i applied one-hot encoding\n",
    "if len(categorical_cols) > 0:\n",
    "    data = pd.get_dummies(data, drop_first=True)\n",
    "    print(\"Shape after encoding:\", data.shape)"
   ]
  },
  {
   "cell_type": "code",
   "execution_count": null,
   "id": "618bd236-6133-43c1-a68f-a08cd3623c23",
   "metadata": {},
   "outputs": [],
   "source": [
    "# Display column names\n",
    "print(data.columns)"
   ]
  },
  {
   "cell_type": "code",
   "execution_count": null,
   "id": "85c0f9a3-0a26-4c66-94af-70f39e333ceb",
   "metadata": {
    "scrolled": true
   },
   "outputs": [],
   "source": [
    "# Separating Features and Target Variable\n",
    "\n",
    "# X (features) and y (target)\n",
    "X = data.drop(\"Price_per_SQFT\", axis=1)\n",
    "y = data[\"Price_per_SQFT\"]"
   ]
  },
  {
   "cell_type": "code",
   "execution_count": null,
   "id": "d2233e4b-f73a-42fc-adaf-b34aed133956",
   "metadata": {},
   "outputs": [],
   "source": [
    "# Encoding Categorical Features\n",
    "# coverting categorial to neumerical\n",
    "X_encoded = pd.get_dummies(X, drop_first=True)"
   ]
  },
  {
   "cell_type": "code",
   "execution_count": null,
   "id": "2ac087f8-acb9-43b1-a356-5cfa2aacb0d8",
   "metadata": {},
   "outputs": [],
   "source": [
    "# Split the data into training and testing sets\n",
    "# i have using a 80% of the data for training and 20% for testing.\n",
    "X_train, X_test, y_train, y_test = train_test_split(X, y, test_size=0.1, random_state=42)"
   ]
  },
  {
   "cell_type": "code",
   "execution_count": null,
   "id": "8ec148ff-ff26-41b6-90b6-7adca3a9783c",
   "metadata": {},
   "outputs": [],
   "source": [
    "# Training Linear Regression model on training data\n",
    "\n",
    "model = LinearRegression() # initializing\n",
    "model.fit(X_train, y_train) # training the Linear Regression model"
   ]
  },
  {
   "cell_type": "code",
   "execution_count": null,
   "id": "34ef0426-a4bf-4ba2-8d45-c692818f7c68",
   "metadata": {},
   "outputs": [],
   "source": []
  }
 ],
 "metadata": {
  "kernelspec": {
   "display_name": "Python 3 (ipykernel)",
   "language": "python",
   "name": "python3"
  },
  "language_info": {
   "codemirror_mode": {
    "name": "ipython",
    "version": 3
   },
   "file_extension": ".py",
   "mimetype": "text/x-python",
   "name": "python",
   "nbconvert_exporter": "python",
   "pygments_lexer": "ipython3",
   "version": "3.9.6"
  }
 },
 "nbformat": 4,
 "nbformat_minor": 5
}
