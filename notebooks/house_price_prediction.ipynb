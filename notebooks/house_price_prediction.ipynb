{
 "cells": [
  {
   "cell_type": "code",
   "execution_count": 2,
   "id": "7b669ee1-208c-44d4-8f2b-b057386379af",
   "metadata": {},
   "outputs": [],
   "source": [
    "import pandas as pd\n",
    "import numpy as np\n",
    "from sklearn.model_selection import train_test_split\n",
    "from sklearn.linear_model import LinearRegression\n",
    "from sklearn.metrics import mean_squared_error, r2_score\n",
    "import matplotlib.pyplot as plt\n",
    "import seaborn as sns\n",
    "\n",
    "#visualizations\n",
    "sns.set(style=\"whitegrid\")"
   ]
  },
  {
   "cell_type": "code",
   "execution_count": 3,
   "id": "14067195-f169-4374-b711-4893f08ced08",
   "metadata": {},
   "outputs": [
    {
     "name": "stdout",
     "output_type": "stream",
     "text": [
      "                                      Name  \\\n",
      "0                         Casagrand ECR 14   \n",
      "1    Ramanathan Nagar, Pozhichalur,Chennai   \n",
      "2                              DAC Prapthi   \n",
      "3  Naveenilaya,Chepauk, Triplicane,Chennai   \n",
      "4                 VGN Spring Field Phase 1   \n",
      "\n",
      "                                      Property Title     Price  \\\n",
      "0  4 BHK Flat for sale in Kanathur Reddikuppam, C...  ₹1.99 Cr   \n",
      "1  10 BHK Independent House for sale in Pozhichal...  ₹2.25 Cr   \n",
      "2      3 BHK Flat for sale in West Tambaram, Chennai   ₹1.0 Cr   \n",
      "3  7 BHK Independent House for sale in Triplicane...  ₹3.33 Cr   \n",
      "4              2 BHK Flat for sale in Avadi, Chennai   ₹48.0 L   \n",
      "\n",
      "                                   Location  Total_Area  Price_per_SQFT  \\\n",
      "0             Kanathur Reddikuppam, Chennai        2583          7700.0   \n",
      "1     Ramanathan Nagar, Pozhichalur,Chennai        7000          3210.0   \n",
      "2  Kasthuribai Nagar, West Tambaram,Chennai        1320          7580.0   \n",
      "3   Naveenilaya,Chepauk, Triplicane,Chennai        4250          7840.0   \n",
      "4                            Avadi, Chennai         960          5000.0   \n",
      "\n",
      "                                         Description  Baths Balcony  \n",
      "0  Best 4 BHK Apartment for modern-day lifestyle ...      4     Yes  \n",
      "1  Looking for a 10 BHK Independent House for sal...      6     Yes  \n",
      "2  Property for sale in Tambaram, Chennai. This 3...      3      No  \n",
      "3  Entire Building for sale with 7 units of singl...      5     Yes  \n",
      "4  Property for sale in Avadi, Chennai. This 2 BH...      3     Yes  \n",
      "<class 'pandas.core.frame.DataFrame'>\n",
      "RangeIndex: 14528 entries, 0 to 14527\n",
      "Data columns (total 9 columns):\n",
      " #   Column          Non-Null Count  Dtype  \n",
      "---  ------          --------------  -----  \n",
      " 0   Name            14528 non-null  object \n",
      " 1   Property Title  14528 non-null  object \n",
      " 2   Price           14528 non-null  object \n",
      " 3   Location        14528 non-null  object \n",
      " 4   Total_Area      14528 non-null  int64  \n",
      " 5   Price_per_SQFT  14528 non-null  float64\n",
      " 6   Description     14528 non-null  object \n",
      " 7   Baths           14528 non-null  int64  \n",
      " 8   Balcony         14528 non-null  object \n",
      "dtypes: float64(1), int64(2), object(6)\n",
      "memory usage: 1021.6+ KB\n",
      "None\n",
      "         Total_Area  Price_per_SQFT         Baths\n",
      "count  14528.000000    14528.000000  14528.000000\n",
      "mean    1297.916988    11719.456222      2.751239\n",
      "std     1245.694305    49036.068632      0.898243\n",
      "min       70.000000        0.000000      1.000000\n",
      "25%      650.000000     4480.000000      2.000000\n",
      "50%     1000.000000     6050.000000      3.000000\n",
      "75%     1439.000000     9312.500000      3.000000\n",
      "max    35000.000000   999000.000000      6.000000\n"
     ]
    }
   ],
   "source": [
    "# heres a dataset i have loaded\n",
    "data = pd.read_csv('../data/house_prices.csv')\n",
    "\n",
    "# this dataset\n",
    "print(data.head())\n",
    "print(data.info())\n",
    "print(data.describe())\n"
   ]
  },
  {
   "cell_type": "code",
   "execution_count": 4,
   "id": "0523567a-886e-4d66-84c3-bea65f8b6bcd",
   "metadata": {},
   "outputs": [
    {
     "name": "stdout",
     "output_type": "stream",
     "text": [
      "                                                   Name  \\\n",
      "6648                             Greenfield Green Ridge   \n",
      "6649                                 Colombia Apartment   \n",
      "6650               Ruki Mahal,Navy Nagar, Colaba,Mumbai   \n",
      "6651                              Transcon Tirumala Sky   \n",
      "6652                               Shree Shakun Heights   \n",
      "...                                                 ...   \n",
      "8002                            Ashish Swapnalok Towers   \n",
      "8003  Chakala Industrial Area (MIDC), Andheri East,M...   \n",
      "8004    Dindoshi shivshahi ,Dindoshi, Malad East,Mumbai   \n",
      "8005                      Vakola, Santacruz East,Mumbai   \n",
      "8006                    Tembhipada, Bhandup West,Mumbai   \n",
      "\n",
      "                                         Property Title     Price  \\\n",
      "6648          2 BHK Flat for sale in Virar West, Mumbai   ₹48.0 L   \n",
      "6649         3 BHK Flat for sale in Bandra West, Mumbai   ₹5.7 Cr   \n",
      "6650              1 BHK Flat for sale in Colaba, Mumbai  ₹2.45 Cr   \n",
      "6651         3 BHK Flat for sale in Mulund West, Mumbai  ₹2.85 Cr   \n",
      "6652       3 BHK Flat for sale in Goregaon East, Mumbai   ₹4.5 Cr   \n",
      "...                                                 ...       ...   \n",
      "8002       2 BHK Flat for sale in Goregaon East, Mumbai  ₹1.75 Cr   \n",
      "8003  1 RK Independent House for sale in Andheri Eas...   ₹15.0 L   \n",
      "8004           1 RK Flat for sale in Malad East, Mumbai   ₹25.0 L   \n",
      "8005  2 BHK Independent House for sale in Santacruz ...   ₹35.0 L   \n",
      "8006  1 BHK Independent House for sale in Bhandup We...   ₹25.0 L   \n",
      "\n",
      "                                               Location  Total_Area  \\\n",
      "6648                          Bolinj, Virar West,Mumbai         980   \n",
      "6649                                Bandra West, Mumbai        1260   \n",
      "6650               Ruki Mahal,Navy Nagar, Colaba,Mumbai         635   \n",
      "6651                Govardhan Nagar, Mulund West,Mumbai        1510   \n",
      "6652                              Goregaon East, Mumbai        2900   \n",
      "...                                                 ...         ...   \n",
      "8002                    Gokuldham, Goregaon East,Mumbai         920   \n",
      "8003  Chakala Industrial Area (MIDC), Andheri East,M...         240   \n",
      "8004    Dindoshi shivshahi ,Dindoshi, Malad East,Mumbai         230   \n",
      "8005                      Vakola, Santacruz East,Mumbai         750   \n",
      "8006                    Tembhipada, Bhandup West,Mumbai         580   \n",
      "\n",
      "      Price_per_SQFT                                        Description  \\\n",
      "6648          4900.0  Spacious corner flat that faces the main road....   \n",
      "6649         45240.0  Beautiful 3BHK with 3 bathrooms in the heart o...   \n",
      "6650         38580.0  Check out this 1 BHK Apartment for sale in Col...   \n",
      "6651         18870.0  Property for sale in Mulund West, Mumbai. This...   \n",
      "6652         15520.0  Check out this 3 BHK Apartment for sale in Gor...   \n",
      "...              ...                                                ...   \n",
      "8002         19020.0  2 BHK Apartment for sale in Goregaon East, Mum...   \n",
      "8003          6250.0  1 RK Independent House for sale in Andheri Eas...   \n",
      "8004         10870.0  Looking for a 1 RK Apartment for sale in Mumba...   \n",
      "8005          4670.0  2 BHK Independent House for sale in Santacruz ...   \n",
      "8006          4310.0  Best 1 BHK Independent House for modern-day li...   \n",
      "\n",
      "      Baths Balcony  \n",
      "6648      3     Yes  \n",
      "6649      3     Yes  \n",
      "6650      2      No  \n",
      "6651      3      No  \n",
      "6652      4     Yes  \n",
      "...     ...     ...  \n",
      "8002      3      No  \n",
      "8003      1      No  \n",
      "8004      1      No  \n",
      "8005      2     Yes  \n",
      "8006      2      No  \n",
      "\n",
      "[1353 rows x 9 columns]\n"
     ]
    }
   ],
   "source": [
    "# cheacking Mumbai listings are in the dataset\n",
    "mumbai_data = data[data['Location'].str.contains(\"Mumbai\", case=False, na=False)]\n",
    "print(mumbai_data)\n"
   ]
  },
  {
   "cell_type": "code",
   "execution_count": 5,
   "id": "5d6eaba7-8c8d-49f0-b138-fd86d784712c",
   "metadata": {},
   "outputs": [
    {
     "name": "stdout",
     "output_type": "stream",
     "text": [
      "Series([], dtype: int64)\n"
     ]
    }
   ],
   "source": [
    "# Checking missing values\n",
    "missing_data = data.isnull().sum()\n",
    "print(missing_data[missing_data > 0])"
   ]
  },
  {
   "cell_type": "code",
   "execution_count": 12,
   "id": "49fe81ec-68d1-4252-a28d-8d52aab28b4b",
   "metadata": {},
   "outputs": [],
   "source": [
    "# Fill missing values for numerical columns only\n",
    "numeric_columns = data.select_dtypes(include=['number']).columns\n",
    "data[numeric_columns] = data[numeric_columns].fillna(data[numeric_columns].median())\n",
    "\n",
    "# Drop columns with too many missing values or non-informative columns, ignoring errors if columns are not present\n",
    "data.drop(columns=[\"Alley\", \"PoolQC\", \"Fence\", \"MiscFeature\"], inplace=True, errors=\"ignore\")\n"
   ]
  },
  {
   "cell_type": "code",
   "execution_count": 13,
   "id": "49679223-7a67-42b8-8e2e-e2be9f78a87c",
   "metadata": {},
   "outputs": [
    {
     "name": "stdout",
     "output_type": "stream",
     "text": [
      "(14528, 38941)\n"
     ]
    }
   ],
   "source": [
    "# Converting categorical variables using one-hot encoding\n",
    "data = pd.get_dummies(data)\n",
    "print(data.shape)"
   ]
  },
  {
   "cell_type": "code",
   "execution_count": 14,
   "id": "b8b162aa-72f2-4183-b326-61356df2b7ad",
   "metadata": {},
   "outputs": [
    {
     "ename": "KeyError",
     "evalue": "\"['SalePrice'] not found in axis\"",
     "output_type": "error",
     "traceback": [
      "\u001b[0;31m---------------------------------------------------------------------------\u001b[0m",
      "\u001b[0;31mKeyError\u001b[0m                                  Traceback (most recent call last)",
      "Cell \u001b[0;32mIn[14], line 4\u001b[0m\n\u001b[1;32m      1\u001b[0m \u001b[38;5;66;03m#Now preparing for traning and test set\u001b[39;00m\n\u001b[1;32m      2\u001b[0m \u001b[38;5;66;03m# Separating the features (X) and the target variable (y), and then spliting our data.\u001b[39;00m\n\u001b[0;32m----> 4\u001b[0m X \u001b[38;5;241m=\u001b[39m \u001b[43mdata\u001b[49m\u001b[38;5;241;43m.\u001b[39;49m\u001b[43mdrop\u001b[49m\u001b[43m(\u001b[49m\u001b[38;5;124;43m\"\u001b[39;49m\u001b[38;5;124;43mSalePrice\u001b[39;49m\u001b[38;5;124;43m\"\u001b[39;49m\u001b[43m,\u001b[49m\u001b[43m \u001b[49m\u001b[43maxis\u001b[49m\u001b[38;5;241;43m=\u001b[39;49m\u001b[38;5;241;43m1\u001b[39;49m\u001b[43m)\u001b[49m \u001b[38;5;66;03m# Define the features (X)\u001b[39;00m\n\u001b[1;32m      5\u001b[0m y \u001b[38;5;241m=\u001b[39m data[\u001b[38;5;124m\"\u001b[39m\u001b[38;5;124mSalePrice\u001b[39m\u001b[38;5;124m\"\u001b[39m] \u001b[38;5;66;03m# target variable (y)\u001b[39;00m\n\u001b[1;32m      7\u001b[0m \u001b[38;5;66;03m# Split into training and test sets\u001b[39;00m\n",
      "File \u001b[0;32m~/ml_env/lib/python3.9/site-packages/pandas/core/frame.py:5581\u001b[0m, in \u001b[0;36mDataFrame.drop\u001b[0;34m(self, labels, axis, index, columns, level, inplace, errors)\u001b[0m\n\u001b[1;32m   5433\u001b[0m \u001b[38;5;28;01mdef\u001b[39;00m \u001b[38;5;21mdrop\u001b[39m(\n\u001b[1;32m   5434\u001b[0m     \u001b[38;5;28mself\u001b[39m,\n\u001b[1;32m   5435\u001b[0m     labels: IndexLabel \u001b[38;5;241m|\u001b[39m \u001b[38;5;28;01mNone\u001b[39;00m \u001b[38;5;241m=\u001b[39m \u001b[38;5;28;01mNone\u001b[39;00m,\n\u001b[0;32m   (...)\u001b[0m\n\u001b[1;32m   5442\u001b[0m     errors: IgnoreRaise \u001b[38;5;241m=\u001b[39m \u001b[38;5;124m\"\u001b[39m\u001b[38;5;124mraise\u001b[39m\u001b[38;5;124m\"\u001b[39m,\n\u001b[1;32m   5443\u001b[0m ) \u001b[38;5;241m-\u001b[39m\u001b[38;5;241m>\u001b[39m DataFrame \u001b[38;5;241m|\u001b[39m \u001b[38;5;28;01mNone\u001b[39;00m:\n\u001b[1;32m   5444\u001b[0m \u001b[38;5;250m    \u001b[39m\u001b[38;5;124;03m\"\"\"\u001b[39;00m\n\u001b[1;32m   5445\u001b[0m \u001b[38;5;124;03m    Drop specified labels from rows or columns.\u001b[39;00m\n\u001b[1;32m   5446\u001b[0m \n\u001b[0;32m   (...)\u001b[0m\n\u001b[1;32m   5579\u001b[0m \u001b[38;5;124;03m            weight  1.0     0.8\u001b[39;00m\n\u001b[1;32m   5580\u001b[0m \u001b[38;5;124;03m    \"\"\"\u001b[39;00m\n\u001b[0;32m-> 5581\u001b[0m     \u001b[38;5;28;01mreturn\u001b[39;00m \u001b[38;5;28;43msuper\u001b[39;49m\u001b[43m(\u001b[49m\u001b[43m)\u001b[49m\u001b[38;5;241;43m.\u001b[39;49m\u001b[43mdrop\u001b[49m\u001b[43m(\u001b[49m\n\u001b[1;32m   5582\u001b[0m \u001b[43m        \u001b[49m\u001b[43mlabels\u001b[49m\u001b[38;5;241;43m=\u001b[39;49m\u001b[43mlabels\u001b[49m\u001b[43m,\u001b[49m\n\u001b[1;32m   5583\u001b[0m \u001b[43m        \u001b[49m\u001b[43maxis\u001b[49m\u001b[38;5;241;43m=\u001b[39;49m\u001b[43maxis\u001b[49m\u001b[43m,\u001b[49m\n\u001b[1;32m   5584\u001b[0m \u001b[43m        \u001b[49m\u001b[43mindex\u001b[49m\u001b[38;5;241;43m=\u001b[39;49m\u001b[43mindex\u001b[49m\u001b[43m,\u001b[49m\n\u001b[1;32m   5585\u001b[0m \u001b[43m        \u001b[49m\u001b[43mcolumns\u001b[49m\u001b[38;5;241;43m=\u001b[39;49m\u001b[43mcolumns\u001b[49m\u001b[43m,\u001b[49m\n\u001b[1;32m   5586\u001b[0m \u001b[43m        \u001b[49m\u001b[43mlevel\u001b[49m\u001b[38;5;241;43m=\u001b[39;49m\u001b[43mlevel\u001b[49m\u001b[43m,\u001b[49m\n\u001b[1;32m   5587\u001b[0m \u001b[43m        \u001b[49m\u001b[43minplace\u001b[49m\u001b[38;5;241;43m=\u001b[39;49m\u001b[43minplace\u001b[49m\u001b[43m,\u001b[49m\n\u001b[1;32m   5588\u001b[0m \u001b[43m        \u001b[49m\u001b[43merrors\u001b[49m\u001b[38;5;241;43m=\u001b[39;49m\u001b[43merrors\u001b[49m\u001b[43m,\u001b[49m\n\u001b[1;32m   5589\u001b[0m \u001b[43m    \u001b[49m\u001b[43m)\u001b[49m\n",
      "File \u001b[0;32m~/ml_env/lib/python3.9/site-packages/pandas/core/generic.py:4788\u001b[0m, in \u001b[0;36mNDFrame.drop\u001b[0;34m(self, labels, axis, index, columns, level, inplace, errors)\u001b[0m\n\u001b[1;32m   4786\u001b[0m \u001b[38;5;28;01mfor\u001b[39;00m axis, labels \u001b[38;5;129;01min\u001b[39;00m axes\u001b[38;5;241m.\u001b[39mitems():\n\u001b[1;32m   4787\u001b[0m     \u001b[38;5;28;01mif\u001b[39;00m labels \u001b[38;5;129;01mis\u001b[39;00m \u001b[38;5;129;01mnot\u001b[39;00m \u001b[38;5;28;01mNone\u001b[39;00m:\n\u001b[0;32m-> 4788\u001b[0m         obj \u001b[38;5;241m=\u001b[39m \u001b[43mobj\u001b[49m\u001b[38;5;241;43m.\u001b[39;49m\u001b[43m_drop_axis\u001b[49m\u001b[43m(\u001b[49m\u001b[43mlabels\u001b[49m\u001b[43m,\u001b[49m\u001b[43m \u001b[49m\u001b[43maxis\u001b[49m\u001b[43m,\u001b[49m\u001b[43m \u001b[49m\u001b[43mlevel\u001b[49m\u001b[38;5;241;43m=\u001b[39;49m\u001b[43mlevel\u001b[49m\u001b[43m,\u001b[49m\u001b[43m \u001b[49m\u001b[43merrors\u001b[49m\u001b[38;5;241;43m=\u001b[39;49m\u001b[43merrors\u001b[49m\u001b[43m)\u001b[49m\n\u001b[1;32m   4790\u001b[0m \u001b[38;5;28;01mif\u001b[39;00m inplace:\n\u001b[1;32m   4791\u001b[0m     \u001b[38;5;28mself\u001b[39m\u001b[38;5;241m.\u001b[39m_update_inplace(obj)\n",
      "File \u001b[0;32m~/ml_env/lib/python3.9/site-packages/pandas/core/generic.py:4830\u001b[0m, in \u001b[0;36mNDFrame._drop_axis\u001b[0;34m(self, labels, axis, level, errors, only_slice)\u001b[0m\n\u001b[1;32m   4828\u001b[0m         new_axis \u001b[38;5;241m=\u001b[39m axis\u001b[38;5;241m.\u001b[39mdrop(labels, level\u001b[38;5;241m=\u001b[39mlevel, errors\u001b[38;5;241m=\u001b[39merrors)\n\u001b[1;32m   4829\u001b[0m     \u001b[38;5;28;01melse\u001b[39;00m:\n\u001b[0;32m-> 4830\u001b[0m         new_axis \u001b[38;5;241m=\u001b[39m \u001b[43maxis\u001b[49m\u001b[38;5;241;43m.\u001b[39;49m\u001b[43mdrop\u001b[49m\u001b[43m(\u001b[49m\u001b[43mlabels\u001b[49m\u001b[43m,\u001b[49m\u001b[43m \u001b[49m\u001b[43merrors\u001b[49m\u001b[38;5;241;43m=\u001b[39;49m\u001b[43merrors\u001b[49m\u001b[43m)\u001b[49m\n\u001b[1;32m   4831\u001b[0m     indexer \u001b[38;5;241m=\u001b[39m axis\u001b[38;5;241m.\u001b[39mget_indexer(new_axis)\n\u001b[1;32m   4833\u001b[0m \u001b[38;5;66;03m# Case for non-unique axis\u001b[39;00m\n\u001b[1;32m   4834\u001b[0m \u001b[38;5;28;01melse\u001b[39;00m:\n",
      "File \u001b[0;32m~/ml_env/lib/python3.9/site-packages/pandas/core/indexes/base.py:7070\u001b[0m, in \u001b[0;36mIndex.drop\u001b[0;34m(self, labels, errors)\u001b[0m\n\u001b[1;32m   7068\u001b[0m \u001b[38;5;28;01mif\u001b[39;00m mask\u001b[38;5;241m.\u001b[39many():\n\u001b[1;32m   7069\u001b[0m     \u001b[38;5;28;01mif\u001b[39;00m errors \u001b[38;5;241m!=\u001b[39m \u001b[38;5;124m\"\u001b[39m\u001b[38;5;124mignore\u001b[39m\u001b[38;5;124m\"\u001b[39m:\n\u001b[0;32m-> 7070\u001b[0m         \u001b[38;5;28;01mraise\u001b[39;00m \u001b[38;5;167;01mKeyError\u001b[39;00m(\u001b[38;5;124mf\u001b[39m\u001b[38;5;124m\"\u001b[39m\u001b[38;5;132;01m{\u001b[39;00mlabels[mask]\u001b[38;5;241m.\u001b[39mtolist()\u001b[38;5;132;01m}\u001b[39;00m\u001b[38;5;124m not found in axis\u001b[39m\u001b[38;5;124m\"\u001b[39m)\n\u001b[1;32m   7071\u001b[0m     indexer \u001b[38;5;241m=\u001b[39m indexer[\u001b[38;5;241m~\u001b[39mmask]\n\u001b[1;32m   7072\u001b[0m \u001b[38;5;28;01mreturn\u001b[39;00m \u001b[38;5;28mself\u001b[39m\u001b[38;5;241m.\u001b[39mdelete(indexer)\n",
      "\u001b[0;31mKeyError\u001b[0m: \"['SalePrice'] not found in axis\""
     ]
    }
   ],
   "source": [
    "#Now preparing for traning and test set\n",
    "# Separating the features (X) and the target variable (y), and then spliting our data.\n",
    "\n",
    "X = data.drop(\"SalePrice\", axis=1) # Define the features (X)\n",
    "y = data[\"SalePrice\"] # target variable (y)\n",
    "\n",
    "# Split into training and test sets\n",
    "X_train, X_test, y_train, y_test = train_test_split(X, y, test_size=0.2, random_state=42)\n"
   ]
  },
  {
   "cell_type": "code",
   "execution_count": 15,
   "id": "561c05b4-799e-4790-89ff-79840e49e996",
   "metadata": {},
   "outputs": [
    {
     "name": "stdout",
     "output_type": "stream",
     "text": [
      "Index(['Total_Area', 'Price_per_SQFT', 'Baths',\n",
      "       'Name_    Madhurangan Apartment ,Ambegaon, Pune',\n",
      "       'Name_   Manganahalli    Sriram Layout ,Ullal Uppanagar, Bangalore',\n",
      "       'Name_   sona Building,Bhayandar West, Mumbai', 'Name_  Oxford Blues',\n",
      "       'Name_  Sec 2 Pooja apartment Bhosari ,Indrayani Nagar Sector 2, Bhosari,Pune',\n",
      "       'Name_ A Knight Ventures Sachh by A Knight Reliant India Pvt Ltd',\n",
      "       'Name_ A N SWAGATH,Gubbalala, Subramanyapura,Bangalore',\n",
      "       ...\n",
      "       'Description_▪︎ 1 BHK house (fully furnished ready to move) for sale\\n▪︎ Building no. 41, 2nd Floor\\nTilak Nagar, Chembur\\n▪︎ Area - 370 Sq Ft Usable Carpet\\n▪︎ 24 hrs water supply \\n▪︎ Nearby locality - Play ground, School, Grocery shops, Restaurant\\n▪︎ Price - 1.10 Cr (Negotiable) More About This Property Best 1 BHK Apartment for modern-day lifestyle is now available for sale. No brokerage involved, Posted by Owner. Grab this 1 BHK property for sale in one of Mumbai's top location, Kurla. It is situated on floor 2. The total number of floors in this Apartment is 10. The property price of this unit is Rs 89.2 L...',\n",
      "       'Description_✅ Apartment Located beside one of the holiest Hindu  *Tripura Sundari Mandir*  ( Shakti temple) \\n\\n✅ Local Market 2 Mins , Metro 5  mins , Metropolitan Bypass 6 Mins , 5&6 No Garia Bus Stand - 6 mins , Hospital 10 mins  , BD Memorial & Future Campus School 6  mins , Hospitals within 10 mins \\n\\n✅ *Covered Parking* - 🚗 Owned \\n\\n✅ *Visitor parking available* - outside \\n\\n✅ _Water Filter Plant for Apartment_ \\n\\n *Main Door* 🚪\\n\\n✅ Covered and solid main door frame with door set latch lock and and imported main door handle.\\n\\n✅ Individual collapsible gate.\\n\\n *Living and dining area* \\n\\n\\n \\n\\n✅  Study Chair\\n...',\n",
      "       'Description_✓ Four side open well-maintained Bunglow built on 2.25 katha land\\n✓ Located within a Gated Society with neighbourhood\\n✓ Corner plot with 12 feet and 16 feet road on two sides\\n✓ Ground Floor: Balcony, Living Room, Dining  Room, Bathroom, Kitchen, Staircase Room\\n✓ First Floor: 3 bedrooms, 2 built in wall cabinets, 2 balconies, 1 bathroom\\n✓ Second Floor: 1 bedroom, 1 Puja Room, Covered Terrace\\n✓ Covered terrace\\n✓ Covered garage\\n✓ Covered lawn space\\n✓ 1750 litre water reservoir and fresh water supply from Garden Reach\\n✓ 5 kms from Behala Chowrasta Metro station, located on the Biren Roy Road West\\n...',\n",
      "       'Description_⭐️2 BHK fully furnished flat is for sale:⭐️\\nSociety: Rohit Park II, Morya colony, Kalewadi-411017\\nEast facing at 5th floor\\nBuilt area: 857 Sq ft.\\nCarpet area: 660 Sq ft.\\nPOP for all walls and ceiling \\nInvertor backup for all electricity boards\\nHanging lights in hall and bedrooms\\nProvision for Broadband\\n4 wheeler cover parking\\nHall connected Gallery\\nOld: 12 years\\nHall:\\n\\tTV Unit\\n\\tIndian Sitting\\nKitchen:\\n\\tCrockery Units\\n\\tTemple\\n\\tProvision for Water Filter\\n\\tKitchen Trolley\\nMaster Bedroom:\\n\\tTrolley Bed and side table\\n\\t2 Wardrobes\\n\\tTV unit & Book Shelf\\n\\tDressing table\\n\\tProvision for AC\\nOther Bedroom...',\n",
      "       'Description_𝐋𝐮𝐱𝐮𝐫𝐲  Apartments @33 𝐋𝐚𝐤𝐡𝐬* onwards.\\nProject is located in Chandapura close to Electronic city\\n𝐋𝐨𝐚𝐧𝐬 Available from all M𝗮𝗷𝗼𝗿 B𝗮𝗻𝗸𝘀\\nBMRDA approved | A-Katha\\n𝐕𝐚𝐚𝐬𝐭𝐮 Compliant with All 𝐌𝐨𝐝𝐞𝐫𝐧 Amenities,\\nWell planned Vaastu compliant Apartments.\\n More About This Property Best 2 BHK Apartment for modern-day lifestyle is now available for sale. No brokerage involved, Posted by Owner. Grab this 2 BHK property for sale in one of Bengaluru's top location, Chandapura. It is situated on floor 2. The total number of floors in this Apartment is 4. Monthly maintenance ...',\n",
      "       'Description_𝐋𝐮𝐱𝐮𝐫𝐲  Apartments @34 𝐋𝐚𝐤𝐡𝐬* onwards.\\nProject is located in Bommasandra close to Electronic city\\n𝐋𝐨𝐚𝐧𝐬 Available from all M𝗮𝗷𝗼𝗿 B𝗮𝗻𝗸𝘀\\nBMRDA approved | A-Katha\\n𝐕𝐚𝐚𝐬𝐭𝐮 Compliant with All 𝐌𝐨𝐝𝐞𝐫𝐧 Amenities,\\nWell planned Vaastu compliant Apartments.\\n More About This Property Looking for a 2 BHK Apartment for sale in Bengaluru? Your search ends here. Buy this 2 BHK property in Bengaluru's finest location, Electronic City. This is an owner listed property and there is no brokerage involved. It is on floor 3 out of 7 floors. Maintenance charges in this property is ...',\n",
      "       'Description_💰2 BHK Flat for Sale in B Block.\\n\\n💰East facing.\\n\\n💰Road Facing.\\n\\n💰880 Sqft. More About This Property Looking for a 2 BHK Apartment for sale in Pune? Your search ends here. Buy this 2 BHK property in Pune's finest location, Bopkhel. This is an owner listed property and there is no brokerage involved. It is on floor 3 out of 5 floors. This Apartment is available at a reasonable price of Rs 45.0 L. Maintenance charges in this property is Rs 900. The built up area of this property is 880 Square feet. It is spacious for a family and this property has a carpet area of 880 Square feet. This proper...',\n",
      "       'Description_🙏🏻Own Flats For SALE🙏🏻\\n5 bed + 5 baths, pooja/study room, 6 balconies/terrace, Duplex Flat 9th & 10th floor + top terrace,\\nSemi furnished,\\n5500 Sq.ft super area, proper north east entry & south west balconies, full day sun light, best view,\\nPrime location, walking distance from metro, mall, park, schools, hospitals, local market\\nClassic Apart., Sector-12    @6.00cr\\nFAR increased, Additional FAR of1250sqft will be achieved in next 6 months.   \\nPrice appreciation of Rs 1.50 cr in the flat price.\\nShow any time between 9.15am to 5.30pm\\n🗝in hand...call before 10 minutes\\n🌸commission committed�...',\n",
      "       'Balcony_No', 'Balcony_Yes'],\n",
      "      dtype='object', length=38941)\n"
     ]
    }
   ],
   "source": [
    "print(data.columns)  # see all columns in `data`"
   ]
  },
  {
   "cell_type": "code",
   "execution_count": 16,
   "id": "f8225b89-d21e-43bf-abc3-d55f8e1c95c2",
   "metadata": {},
   "outputs": [
    {
     "ename": "KeyError",
     "evalue": "'SalePrice'",
     "output_type": "error",
     "traceback": [
      "\u001b[0;31m---------------------------------------------------------------------------\u001b[0m",
      "\u001b[0;31mKeyError\u001b[0m                                  Traceback (most recent call last)",
      "File \u001b[0;32m~/ml_env/lib/python3.9/site-packages/pandas/core/indexes/base.py:3805\u001b[0m, in \u001b[0;36mIndex.get_loc\u001b[0;34m(self, key)\u001b[0m\n\u001b[1;32m   3804\u001b[0m \u001b[38;5;28;01mtry\u001b[39;00m:\n\u001b[0;32m-> 3805\u001b[0m     \u001b[38;5;28;01mreturn\u001b[39;00m \u001b[38;5;28;43mself\u001b[39;49m\u001b[38;5;241;43m.\u001b[39;49m\u001b[43m_engine\u001b[49m\u001b[38;5;241;43m.\u001b[39;49m\u001b[43mget_loc\u001b[49m\u001b[43m(\u001b[49m\u001b[43mcasted_key\u001b[49m\u001b[43m)\u001b[49m\n\u001b[1;32m   3806\u001b[0m \u001b[38;5;28;01mexcept\u001b[39;00m \u001b[38;5;167;01mKeyError\u001b[39;00m \u001b[38;5;28;01mas\u001b[39;00m err:\n",
      "File \u001b[0;32mindex.pyx:167\u001b[0m, in \u001b[0;36mpandas._libs.index.IndexEngine.get_loc\u001b[0;34m()\u001b[0m\n",
      "File \u001b[0;32mindex.pyx:196\u001b[0m, in \u001b[0;36mpandas._libs.index.IndexEngine.get_loc\u001b[0;34m()\u001b[0m\n",
      "File \u001b[0;32mpandas/_libs/hashtable_class_helper.pxi:7081\u001b[0m, in \u001b[0;36mpandas._libs.hashtable.PyObjectHashTable.get_item\u001b[0;34m()\u001b[0m\n",
      "File \u001b[0;32mpandas/_libs/hashtable_class_helper.pxi:7089\u001b[0m, in \u001b[0;36mpandas._libs.hashtable.PyObjectHashTable.get_item\u001b[0;34m()\u001b[0m\n",
      "\u001b[0;31mKeyError\u001b[0m: 'SalePrice'",
      "\nThe above exception was the direct cause of the following exception:\n",
      "\u001b[0;31mKeyError\u001b[0m                                  Traceback (most recent call last)",
      "Cell \u001b[0;32mIn[16], line 1\u001b[0m\n\u001b[0;32m----> 1\u001b[0m y \u001b[38;5;241m=\u001b[39m \u001b[43mdata\u001b[49m\u001b[43m[\u001b[49m\u001b[38;5;124;43m\"\u001b[39;49m\u001b[38;5;124;43mSalePrice\u001b[39;49m\u001b[38;5;124;43m\"\u001b[39;49m\u001b[43m]\u001b[49m\n\u001b[1;32m      2\u001b[0m X \u001b[38;5;241m=\u001b[39m data\u001b[38;5;241m.\u001b[39mdrop(\u001b[38;5;124m\"\u001b[39m\u001b[38;5;124mSalePrice\u001b[39m\u001b[38;5;124m\"\u001b[39m, axis\u001b[38;5;241m=\u001b[39m\u001b[38;5;241m1\u001b[39m)\n\u001b[1;32m      3\u001b[0m X \u001b[38;5;241m=\u001b[39m pd\u001b[38;5;241m.\u001b[39mget_dummies(X)\n",
      "File \u001b[0;32m~/ml_env/lib/python3.9/site-packages/pandas/core/frame.py:4102\u001b[0m, in \u001b[0;36mDataFrame.__getitem__\u001b[0;34m(self, key)\u001b[0m\n\u001b[1;32m   4100\u001b[0m \u001b[38;5;28;01mif\u001b[39;00m \u001b[38;5;28mself\u001b[39m\u001b[38;5;241m.\u001b[39mcolumns\u001b[38;5;241m.\u001b[39mnlevels \u001b[38;5;241m>\u001b[39m \u001b[38;5;241m1\u001b[39m:\n\u001b[1;32m   4101\u001b[0m     \u001b[38;5;28;01mreturn\u001b[39;00m \u001b[38;5;28mself\u001b[39m\u001b[38;5;241m.\u001b[39m_getitem_multilevel(key)\n\u001b[0;32m-> 4102\u001b[0m indexer \u001b[38;5;241m=\u001b[39m \u001b[38;5;28;43mself\u001b[39;49m\u001b[38;5;241;43m.\u001b[39;49m\u001b[43mcolumns\u001b[49m\u001b[38;5;241;43m.\u001b[39;49m\u001b[43mget_loc\u001b[49m\u001b[43m(\u001b[49m\u001b[43mkey\u001b[49m\u001b[43m)\u001b[49m\n\u001b[1;32m   4103\u001b[0m \u001b[38;5;28;01mif\u001b[39;00m is_integer(indexer):\n\u001b[1;32m   4104\u001b[0m     indexer \u001b[38;5;241m=\u001b[39m [indexer]\n",
      "File \u001b[0;32m~/ml_env/lib/python3.9/site-packages/pandas/core/indexes/base.py:3812\u001b[0m, in \u001b[0;36mIndex.get_loc\u001b[0;34m(self, key)\u001b[0m\n\u001b[1;32m   3807\u001b[0m     \u001b[38;5;28;01mif\u001b[39;00m \u001b[38;5;28misinstance\u001b[39m(casted_key, \u001b[38;5;28mslice\u001b[39m) \u001b[38;5;129;01mor\u001b[39;00m (\n\u001b[1;32m   3808\u001b[0m         \u001b[38;5;28misinstance\u001b[39m(casted_key, abc\u001b[38;5;241m.\u001b[39mIterable)\n\u001b[1;32m   3809\u001b[0m         \u001b[38;5;129;01mand\u001b[39;00m \u001b[38;5;28many\u001b[39m(\u001b[38;5;28misinstance\u001b[39m(x, \u001b[38;5;28mslice\u001b[39m) \u001b[38;5;28;01mfor\u001b[39;00m x \u001b[38;5;129;01min\u001b[39;00m casted_key)\n\u001b[1;32m   3810\u001b[0m     ):\n\u001b[1;32m   3811\u001b[0m         \u001b[38;5;28;01mraise\u001b[39;00m InvalidIndexError(key)\n\u001b[0;32m-> 3812\u001b[0m     \u001b[38;5;28;01mraise\u001b[39;00m \u001b[38;5;167;01mKeyError\u001b[39;00m(key) \u001b[38;5;28;01mfrom\u001b[39;00m \u001b[38;5;21;01merr\u001b[39;00m\n\u001b[1;32m   3813\u001b[0m \u001b[38;5;28;01mexcept\u001b[39;00m \u001b[38;5;167;01mTypeError\u001b[39;00m:\n\u001b[1;32m   3814\u001b[0m     \u001b[38;5;66;03m# If we have a listlike key, _check_indexing_error will raise\u001b[39;00m\n\u001b[1;32m   3815\u001b[0m     \u001b[38;5;66;03m#  InvalidIndexError. Otherwise we fall through and re-raise\u001b[39;00m\n\u001b[1;32m   3816\u001b[0m     \u001b[38;5;66;03m#  the TypeError.\u001b[39;00m\n\u001b[1;32m   3817\u001b[0m     \u001b[38;5;28mself\u001b[39m\u001b[38;5;241m.\u001b[39m_check_indexing_error(key)\n",
      "\u001b[0;31mKeyError\u001b[0m: 'SalePrice'"
     ]
    }
   ],
   "source": [
    "y = data[\"SalePrice\"]\n",
    "X = data.drop(\"SalePrice\", axis=1)\n",
    "X = pd.get_dummies(X)"
   ]
  },
  {
   "cell_type": "code",
   "execution_count": 17,
   "id": "d160ad79-304e-4276-8003-796abc53e6d7",
   "metadata": {},
   "outputs": [
    {
     "ename": "KeyError",
     "evalue": "'SalePrice'",
     "output_type": "error",
     "traceback": [
      "\u001b[0;31m---------------------------------------------------------------------------\u001b[0m",
      "\u001b[0;31mKeyError\u001b[0m                                  Traceback (most recent call last)",
      "File \u001b[0;32m~/ml_env/lib/python3.9/site-packages/pandas/core/indexes/base.py:3805\u001b[0m, in \u001b[0;36mIndex.get_loc\u001b[0;34m(self, key)\u001b[0m\n\u001b[1;32m   3804\u001b[0m \u001b[38;5;28;01mtry\u001b[39;00m:\n\u001b[0;32m-> 3805\u001b[0m     \u001b[38;5;28;01mreturn\u001b[39;00m \u001b[38;5;28;43mself\u001b[39;49m\u001b[38;5;241;43m.\u001b[39;49m\u001b[43m_engine\u001b[49m\u001b[38;5;241;43m.\u001b[39;49m\u001b[43mget_loc\u001b[49m\u001b[43m(\u001b[49m\u001b[43mcasted_key\u001b[49m\u001b[43m)\u001b[49m\n\u001b[1;32m   3806\u001b[0m \u001b[38;5;28;01mexcept\u001b[39;00m \u001b[38;5;167;01mKeyError\u001b[39;00m \u001b[38;5;28;01mas\u001b[39;00m err:\n",
      "File \u001b[0;32mindex.pyx:167\u001b[0m, in \u001b[0;36mpandas._libs.index.IndexEngine.get_loc\u001b[0;34m()\u001b[0m\n",
      "File \u001b[0;32mindex.pyx:196\u001b[0m, in \u001b[0;36mpandas._libs.index.IndexEngine.get_loc\u001b[0;34m()\u001b[0m\n",
      "File \u001b[0;32mpandas/_libs/hashtable_class_helper.pxi:7081\u001b[0m, in \u001b[0;36mpandas._libs.hashtable.PyObjectHashTable.get_item\u001b[0;34m()\u001b[0m\n",
      "File \u001b[0;32mpandas/_libs/hashtable_class_helper.pxi:7089\u001b[0m, in \u001b[0;36mpandas._libs.hashtable.PyObjectHashTable.get_item\u001b[0;34m()\u001b[0m\n",
      "\u001b[0;31mKeyError\u001b[0m: 'SalePrice'",
      "\nThe above exception was the direct cause of the following exception:\n",
      "\u001b[0;31mKeyError\u001b[0m                                  Traceback (most recent call last)",
      "Cell \u001b[0;32mIn[17], line 1\u001b[0m\n\u001b[0;32m----> 1\u001b[0m y \u001b[38;5;241m=\u001b[39m \u001b[43mdata\u001b[49m\u001b[43m[\u001b[49m\u001b[38;5;124;43m\"\u001b[39;49m\u001b[38;5;124;43mSalePrice\u001b[39;49m\u001b[38;5;124;43m\"\u001b[39;49m\u001b[43m]\u001b[49m\n\u001b[1;32m      2\u001b[0m X \u001b[38;5;241m=\u001b[39m data\u001b[38;5;241m.\u001b[39mdrop(\u001b[38;5;124m\"\u001b[39m\u001b[38;5;124mSalePrice\u001b[39m\u001b[38;5;124m\"\u001b[39m, axis\u001b[38;5;241m=\u001b[39m\u001b[38;5;241m1\u001b[39m)\n\u001b[1;32m      3\u001b[0m X \u001b[38;5;241m=\u001b[39m pd\u001b[38;5;241m.\u001b[39mget_dummies(X)\n",
      "File \u001b[0;32m~/ml_env/lib/python3.9/site-packages/pandas/core/frame.py:4102\u001b[0m, in \u001b[0;36mDataFrame.__getitem__\u001b[0;34m(self, key)\u001b[0m\n\u001b[1;32m   4100\u001b[0m \u001b[38;5;28;01mif\u001b[39;00m \u001b[38;5;28mself\u001b[39m\u001b[38;5;241m.\u001b[39mcolumns\u001b[38;5;241m.\u001b[39mnlevels \u001b[38;5;241m>\u001b[39m \u001b[38;5;241m1\u001b[39m:\n\u001b[1;32m   4101\u001b[0m     \u001b[38;5;28;01mreturn\u001b[39;00m \u001b[38;5;28mself\u001b[39m\u001b[38;5;241m.\u001b[39m_getitem_multilevel(key)\n\u001b[0;32m-> 4102\u001b[0m indexer \u001b[38;5;241m=\u001b[39m \u001b[38;5;28;43mself\u001b[39;49m\u001b[38;5;241;43m.\u001b[39;49m\u001b[43mcolumns\u001b[49m\u001b[38;5;241;43m.\u001b[39;49m\u001b[43mget_loc\u001b[49m\u001b[43m(\u001b[49m\u001b[43mkey\u001b[49m\u001b[43m)\u001b[49m\n\u001b[1;32m   4103\u001b[0m \u001b[38;5;28;01mif\u001b[39;00m is_integer(indexer):\n\u001b[1;32m   4104\u001b[0m     indexer \u001b[38;5;241m=\u001b[39m [indexer]\n",
      "File \u001b[0;32m~/ml_env/lib/python3.9/site-packages/pandas/core/indexes/base.py:3812\u001b[0m, in \u001b[0;36mIndex.get_loc\u001b[0;34m(self, key)\u001b[0m\n\u001b[1;32m   3807\u001b[0m     \u001b[38;5;28;01mif\u001b[39;00m \u001b[38;5;28misinstance\u001b[39m(casted_key, \u001b[38;5;28mslice\u001b[39m) \u001b[38;5;129;01mor\u001b[39;00m (\n\u001b[1;32m   3808\u001b[0m         \u001b[38;5;28misinstance\u001b[39m(casted_key, abc\u001b[38;5;241m.\u001b[39mIterable)\n\u001b[1;32m   3809\u001b[0m         \u001b[38;5;129;01mand\u001b[39;00m \u001b[38;5;28many\u001b[39m(\u001b[38;5;28misinstance\u001b[39m(x, \u001b[38;5;28mslice\u001b[39m) \u001b[38;5;28;01mfor\u001b[39;00m x \u001b[38;5;129;01min\u001b[39;00m casted_key)\n\u001b[1;32m   3810\u001b[0m     ):\n\u001b[1;32m   3811\u001b[0m         \u001b[38;5;28;01mraise\u001b[39;00m InvalidIndexError(key)\n\u001b[0;32m-> 3812\u001b[0m     \u001b[38;5;28;01mraise\u001b[39;00m \u001b[38;5;167;01mKeyError\u001b[39;00m(key) \u001b[38;5;28;01mfrom\u001b[39;00m \u001b[38;5;21;01merr\u001b[39;00m\n\u001b[1;32m   3813\u001b[0m \u001b[38;5;28;01mexcept\u001b[39;00m \u001b[38;5;167;01mTypeError\u001b[39;00m:\n\u001b[1;32m   3814\u001b[0m     \u001b[38;5;66;03m# If we have a listlike key, _check_indexing_error will raise\u001b[39;00m\n\u001b[1;32m   3815\u001b[0m     \u001b[38;5;66;03m#  InvalidIndexError. Otherwise we fall through and re-raise\u001b[39;00m\n\u001b[1;32m   3816\u001b[0m     \u001b[38;5;66;03m#  the TypeError.\u001b[39;00m\n\u001b[1;32m   3817\u001b[0m     \u001b[38;5;28mself\u001b[39m\u001b[38;5;241m.\u001b[39m_check_indexing_error(key)\n",
      "\u001b[0;31mKeyError\u001b[0m: 'SalePrice'"
     ]
    }
   ],
   "source": [
    "y = data[\"SalePrice\"]\n",
    "X = data.drop(\"SalePrice\", axis=1)\n",
    "X = pd.get_dummies(X)\n"
   ]
  },
  {
   "cell_type": "code",
   "execution_count": 18,
   "id": "a708ce19-10cd-47ab-b74a-323b9850907f",
   "metadata": {},
   "outputs": [
    {
     "name": "stdout",
     "output_type": "stream",
     "text": [
      "Index(['Total_Area', 'Price_per_SQFT', 'Baths',\n",
      "       'Name_    Madhurangan Apartment ,Ambegaon, Pune',\n",
      "       'Name_   Manganahalli    Sriram Layout ,Ullal Uppanagar, Bangalore',\n",
      "       'Name_   sona Building,Bhayandar West, Mumbai', 'Name_  Oxford Blues',\n",
      "       'Name_  Sec 2 Pooja apartment Bhosari ,Indrayani Nagar Sector 2, Bhosari,Pune',\n",
      "       'Name_ A Knight Ventures Sachh by A Knight Reliant India Pvt Ltd',\n",
      "       'Name_ A N SWAGATH,Gubbalala, Subramanyapura,Bangalore',\n",
      "       ...\n",
      "       'Description_▪︎ 1 BHK house (fully furnished ready to move) for sale\\n▪︎ Building no. 41, 2nd Floor\\nTilak Nagar, Chembur\\n▪︎ Area - 370 Sq Ft Usable Carpet\\n▪︎ 24 hrs water supply \\n▪︎ Nearby locality - Play ground, School, Grocery shops, Restaurant\\n▪︎ Price - 1.10 Cr (Negotiable) More About This Property Best 1 BHK Apartment for modern-day lifestyle is now available for sale. No brokerage involved, Posted by Owner. Grab this 1 BHK property for sale in one of Mumbai's top location, Kurla. It is situated on floor 2. The total number of floors in this Apartment is 10. The property price of this unit is Rs 89.2 L...',\n",
      "       'Description_✅ Apartment Located beside one of the holiest Hindu  *Tripura Sundari Mandir*  ( Shakti temple) \\n\\n✅ Local Market 2 Mins , Metro 5  mins , Metropolitan Bypass 6 Mins , 5&6 No Garia Bus Stand - 6 mins , Hospital 10 mins  , BD Memorial & Future Campus School 6  mins , Hospitals within 10 mins \\n\\n✅ *Covered Parking* - 🚗 Owned \\n\\n✅ *Visitor parking available* - outside \\n\\n✅ _Water Filter Plant for Apartment_ \\n\\n *Main Door* 🚪\\n\\n✅ Covered and solid main door frame with door set latch lock and and imported main door handle.\\n\\n✅ Individual collapsible gate.\\n\\n *Living and dining area* \\n\\n\\n \\n\\n✅  Study Chair\\n...',\n",
      "       'Description_✓ Four side open well-maintained Bunglow built on 2.25 katha land\\n✓ Located within a Gated Society with neighbourhood\\n✓ Corner plot with 12 feet and 16 feet road on two sides\\n✓ Ground Floor: Balcony, Living Room, Dining  Room, Bathroom, Kitchen, Staircase Room\\n✓ First Floor: 3 bedrooms, 2 built in wall cabinets, 2 balconies, 1 bathroom\\n✓ Second Floor: 1 bedroom, 1 Puja Room, Covered Terrace\\n✓ Covered terrace\\n✓ Covered garage\\n✓ Covered lawn space\\n✓ 1750 litre water reservoir and fresh water supply from Garden Reach\\n✓ 5 kms from Behala Chowrasta Metro station, located on the Biren Roy Road West\\n...',\n",
      "       'Description_⭐️2 BHK fully furnished flat is for sale:⭐️\\nSociety: Rohit Park II, Morya colony, Kalewadi-411017\\nEast facing at 5th floor\\nBuilt area: 857 Sq ft.\\nCarpet area: 660 Sq ft.\\nPOP for all walls and ceiling \\nInvertor backup for all electricity boards\\nHanging lights in hall and bedrooms\\nProvision for Broadband\\n4 wheeler cover parking\\nHall connected Gallery\\nOld: 12 years\\nHall:\\n\\tTV Unit\\n\\tIndian Sitting\\nKitchen:\\n\\tCrockery Units\\n\\tTemple\\n\\tProvision for Water Filter\\n\\tKitchen Trolley\\nMaster Bedroom:\\n\\tTrolley Bed and side table\\n\\t2 Wardrobes\\n\\tTV unit & Book Shelf\\n\\tDressing table\\n\\tProvision for AC\\nOther Bedroom...',\n",
      "       'Description_𝐋𝐮𝐱𝐮𝐫𝐲  Apartments @33 𝐋𝐚𝐤𝐡𝐬* onwards.\\nProject is located in Chandapura close to Electronic city\\n𝐋𝐨𝐚𝐧𝐬 Available from all M𝗮𝗷𝗼𝗿 B𝗮𝗻𝗸𝘀\\nBMRDA approved | A-Katha\\n𝐕𝐚𝐚𝐬𝐭𝐮 Compliant with All 𝐌𝐨𝐝𝐞𝐫𝐧 Amenities,\\nWell planned Vaastu compliant Apartments.\\n More About This Property Best 2 BHK Apartment for modern-day lifestyle is now available for sale. No brokerage involved, Posted by Owner. Grab this 2 BHK property for sale in one of Bengaluru's top location, Chandapura. It is situated on floor 2. The total number of floors in this Apartment is 4. Monthly maintenance ...',\n",
      "       'Description_𝐋𝐮𝐱𝐮𝐫𝐲  Apartments @34 𝐋𝐚𝐤𝐡𝐬* onwards.\\nProject is located in Bommasandra close to Electronic city\\n𝐋𝐨𝐚𝐧𝐬 Available from all M𝗮𝗷𝗼𝗿 B𝗮𝗻𝗸𝘀\\nBMRDA approved | A-Katha\\n𝐕𝐚𝐚𝐬𝐭𝐮 Compliant with All 𝐌𝐨𝐝𝐞𝐫𝐧 Amenities,\\nWell planned Vaastu compliant Apartments.\\n More About This Property Looking for a 2 BHK Apartment for sale in Bengaluru? Your search ends here. Buy this 2 BHK property in Bengaluru's finest location, Electronic City. This is an owner listed property and there is no brokerage involved. It is on floor 3 out of 7 floors. Maintenance charges in this property is ...',\n",
      "       'Description_💰2 BHK Flat for Sale in B Block.\\n\\n💰East facing.\\n\\n💰Road Facing.\\n\\n💰880 Sqft. More About This Property Looking for a 2 BHK Apartment for sale in Pune? Your search ends here. Buy this 2 BHK property in Pune's finest location, Bopkhel. This is an owner listed property and there is no brokerage involved. It is on floor 3 out of 5 floors. This Apartment is available at a reasonable price of Rs 45.0 L. Maintenance charges in this property is Rs 900. The built up area of this property is 880 Square feet. It is spacious for a family and this property has a carpet area of 880 Square feet. This proper...',\n",
      "       'Description_🙏🏻Own Flats For SALE🙏🏻\\n5 bed + 5 baths, pooja/study room, 6 balconies/terrace, Duplex Flat 9th & 10th floor + top terrace,\\nSemi furnished,\\n5500 Sq.ft super area, proper north east entry & south west balconies, full day sun light, best view,\\nPrime location, walking distance from metro, mall, park, schools, hospitals, local market\\nClassic Apart., Sector-12    @6.00cr\\nFAR increased, Additional FAR of1250sqft will be achieved in next 6 months.   \\nPrice appreciation of Rs 1.50 cr in the flat price.\\nShow any time between 9.15am to 5.30pm\\n🗝in hand...call before 10 minutes\\n🌸commission committed�...',\n",
      "       'Balcony_No', 'Balcony_Yes'],\n",
      "      dtype='object', length=38941)\n"
     ]
    }
   ],
   "source": [
    "print(data.columns)\n"
   ]
  },
  {
   "cell_type": "code",
   "execution_count": 21,
   "id": "26807735-a108-4ff5-b3dd-3f4413c96674",
   "metadata": {},
   "outputs": [],
   "source": [
    "# Handle missing values\n",
    "# Filling numeric columns with the median\n",
    "numeric_columns = data.select_dtypes(include=['float64', 'int64']).columns\n",
    "data[numeric_columns] = data[numeric_columns].fillna(data[numeric_columns].median())"
   ]
  },
  {
   "cell_type": "code",
   "execution_count": 23,
   "id": "b7fbb02b-ecf1-40aa-9ec3-770ddc35d0bf",
   "metadata": {},
   "outputs": [],
   "source": [
    "columns_to_drop = [\"Alley\", \"PoolQC\", \"Fence\", \"MiscFeature\"]\n",
    "data = data.drop(columns=[col for col in columns_to_drop if col in data.columns])\n",
    "# Drop columns with too many missing values (only if these columns exist)"
   ]
  },
  {
   "cell_type": "code",
   "execution_count": 25,
   "id": "0883dcbd-9ae1-4f12-bba9-c0da95ef6cf0",
   "metadata": {},
   "outputs": [
    {
     "ename": "KeyError",
     "evalue": "'SalePrice'",
     "output_type": "error",
     "traceback": [
      "\u001b[0;31m---------------------------------------------------------------------------\u001b[0m",
      "\u001b[0;31mKeyError\u001b[0m                                  Traceback (most recent call last)",
      "File \u001b[0;32m~/ml_env/lib/python3.9/site-packages/pandas/core/indexes/base.py:3805\u001b[0m, in \u001b[0;36mIndex.get_loc\u001b[0;34m(self, key)\u001b[0m\n\u001b[1;32m   3804\u001b[0m \u001b[38;5;28;01mtry\u001b[39;00m:\n\u001b[0;32m-> 3805\u001b[0m     \u001b[38;5;28;01mreturn\u001b[39;00m \u001b[38;5;28;43mself\u001b[39;49m\u001b[38;5;241;43m.\u001b[39;49m\u001b[43m_engine\u001b[49m\u001b[38;5;241;43m.\u001b[39;49m\u001b[43mget_loc\u001b[49m\u001b[43m(\u001b[49m\u001b[43mcasted_key\u001b[49m\u001b[43m)\u001b[49m\n\u001b[1;32m   3806\u001b[0m \u001b[38;5;28;01mexcept\u001b[39;00m \u001b[38;5;167;01mKeyError\u001b[39;00m \u001b[38;5;28;01mas\u001b[39;00m err:\n",
      "File \u001b[0;32mindex.pyx:167\u001b[0m, in \u001b[0;36mpandas._libs.index.IndexEngine.get_loc\u001b[0;34m()\u001b[0m\n",
      "File \u001b[0;32mindex.pyx:196\u001b[0m, in \u001b[0;36mpandas._libs.index.IndexEngine.get_loc\u001b[0;34m()\u001b[0m\n",
      "File \u001b[0;32mpandas/_libs/hashtable_class_helper.pxi:7081\u001b[0m, in \u001b[0;36mpandas._libs.hashtable.PyObjectHashTable.get_item\u001b[0;34m()\u001b[0m\n",
      "File \u001b[0;32mpandas/_libs/hashtable_class_helper.pxi:7089\u001b[0m, in \u001b[0;36mpandas._libs.hashtable.PyObjectHashTable.get_item\u001b[0;34m()\u001b[0m\n",
      "\u001b[0;31mKeyError\u001b[0m: 'SalePrice'",
      "\nThe above exception was the direct cause of the following exception:\n",
      "\u001b[0;31mKeyError\u001b[0m                                  Traceback (most recent call last)",
      "Cell \u001b[0;32mIn[25], line 2\u001b[0m\n\u001b[1;32m      1\u001b[0m \u001b[38;5;66;03m# Separate the target variable ('SalePrice') from the features\u001b[39;00m\n\u001b[0;32m----> 2\u001b[0m y \u001b[38;5;241m=\u001b[39m \u001b[43mdata\u001b[49m\u001b[43m[\u001b[49m\u001b[38;5;124;43m\"\u001b[39;49m\u001b[38;5;124;43mSalePrice\u001b[39;49m\u001b[38;5;124;43m\"\u001b[39;49m\u001b[43m]\u001b[49m  \u001b[38;5;66;03m# target variable\u001b[39;00m\n\u001b[1;32m      3\u001b[0m X \u001b[38;5;241m=\u001b[39m data\u001b[38;5;241m.\u001b[39mdrop(\u001b[38;5;124m\"\u001b[39m\u001b[38;5;124mSalePrice\u001b[39m\u001b[38;5;124m\"\u001b[39m, axis\u001b[38;5;241m=\u001b[39m\u001b[38;5;241m1\u001b[39m)  \u001b[38;5;66;03m# features by dropping 'SalePrice'\u001b[39;00m\n",
      "File \u001b[0;32m~/ml_env/lib/python3.9/site-packages/pandas/core/frame.py:4102\u001b[0m, in \u001b[0;36mDataFrame.__getitem__\u001b[0;34m(self, key)\u001b[0m\n\u001b[1;32m   4100\u001b[0m \u001b[38;5;28;01mif\u001b[39;00m \u001b[38;5;28mself\u001b[39m\u001b[38;5;241m.\u001b[39mcolumns\u001b[38;5;241m.\u001b[39mnlevels \u001b[38;5;241m>\u001b[39m \u001b[38;5;241m1\u001b[39m:\n\u001b[1;32m   4101\u001b[0m     \u001b[38;5;28;01mreturn\u001b[39;00m \u001b[38;5;28mself\u001b[39m\u001b[38;5;241m.\u001b[39m_getitem_multilevel(key)\n\u001b[0;32m-> 4102\u001b[0m indexer \u001b[38;5;241m=\u001b[39m \u001b[38;5;28;43mself\u001b[39;49m\u001b[38;5;241;43m.\u001b[39;49m\u001b[43mcolumns\u001b[49m\u001b[38;5;241;43m.\u001b[39;49m\u001b[43mget_loc\u001b[49m\u001b[43m(\u001b[49m\u001b[43mkey\u001b[49m\u001b[43m)\u001b[49m\n\u001b[1;32m   4103\u001b[0m \u001b[38;5;28;01mif\u001b[39;00m is_integer(indexer):\n\u001b[1;32m   4104\u001b[0m     indexer \u001b[38;5;241m=\u001b[39m [indexer]\n",
      "File \u001b[0;32m~/ml_env/lib/python3.9/site-packages/pandas/core/indexes/base.py:3812\u001b[0m, in \u001b[0;36mIndex.get_loc\u001b[0;34m(self, key)\u001b[0m\n\u001b[1;32m   3807\u001b[0m     \u001b[38;5;28;01mif\u001b[39;00m \u001b[38;5;28misinstance\u001b[39m(casted_key, \u001b[38;5;28mslice\u001b[39m) \u001b[38;5;129;01mor\u001b[39;00m (\n\u001b[1;32m   3808\u001b[0m         \u001b[38;5;28misinstance\u001b[39m(casted_key, abc\u001b[38;5;241m.\u001b[39mIterable)\n\u001b[1;32m   3809\u001b[0m         \u001b[38;5;129;01mand\u001b[39;00m \u001b[38;5;28many\u001b[39m(\u001b[38;5;28misinstance\u001b[39m(x, \u001b[38;5;28mslice\u001b[39m) \u001b[38;5;28;01mfor\u001b[39;00m x \u001b[38;5;129;01min\u001b[39;00m casted_key)\n\u001b[1;32m   3810\u001b[0m     ):\n\u001b[1;32m   3811\u001b[0m         \u001b[38;5;28;01mraise\u001b[39;00m InvalidIndexError(key)\n\u001b[0;32m-> 3812\u001b[0m     \u001b[38;5;28;01mraise\u001b[39;00m \u001b[38;5;167;01mKeyError\u001b[39;00m(key) \u001b[38;5;28;01mfrom\u001b[39;00m \u001b[38;5;21;01merr\u001b[39;00m\n\u001b[1;32m   3813\u001b[0m \u001b[38;5;28;01mexcept\u001b[39;00m \u001b[38;5;167;01mTypeError\u001b[39;00m:\n\u001b[1;32m   3814\u001b[0m     \u001b[38;5;66;03m# If we have a listlike key, _check_indexing_error will raise\u001b[39;00m\n\u001b[1;32m   3815\u001b[0m     \u001b[38;5;66;03m#  InvalidIndexError. Otherwise we fall through and re-raise\u001b[39;00m\n\u001b[1;32m   3816\u001b[0m     \u001b[38;5;66;03m#  the TypeError.\u001b[39;00m\n\u001b[1;32m   3817\u001b[0m     \u001b[38;5;28mself\u001b[39m\u001b[38;5;241m.\u001b[39m_check_indexing_error(key)\n",
      "\u001b[0;31mKeyError\u001b[0m: 'SalePrice'"
     ]
    }
   ],
   "source": [
    "# Separate the target variable ('SalePrice') from the features\n",
    "y = data[\"SalePrice\"]  # target variable\n",
    "X = data.drop(\"SalePrice\", axis=1)  # features by dropping 'SalePrice'"
   ]
  },
  {
   "cell_type": "code",
   "execution_count": null,
   "id": "190cf261-c6b3-470d-bf65-912eca713011",
   "metadata": {},
   "outputs": [],
   "source": []
  }
 ],
 "metadata": {
  "kernelspec": {
   "display_name": "Python 3 (ipykernel)",
   "language": "python",
   "name": "python3"
  },
  "language_info": {
   "codemirror_mode": {
    "name": "ipython",
    "version": 3
   },
   "file_extension": ".py",
   "mimetype": "text/x-python",
   "name": "python",
   "nbconvert_exporter": "python",
   "pygments_lexer": "ipython3",
   "version": "3.9.6"
  }
 },
 "nbformat": 4,
 "nbformat_minor": 5
}
